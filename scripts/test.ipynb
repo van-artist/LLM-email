{
 "cells": [
  {
   "cell_type": "code",
   "execution_count": 3,
   "metadata": {},
   "outputs": [
    {
     "name": "stdout",
     "output_type": "stream",
     "text": [
      "发送提示词到本地模型： 请问NOI比赛的报名截止时间是什么？\n",
      "\n",
      "📨 模型回复：\n",
      " <think>\n",
      "\n",
      "</think>\n",
      "\n",
      "您好，建议您联网获取时效性较强的信息；如果还有其他问题需要帮助，请随时告诉我！\n"
     ]
    }
   ],
   "source": [
    "from controller import call_ollama\n",
    "\n",
    "\n",
    "test_prompt = \"请问NOI比赛的报名截止时间是什么？\"\n",
    "print(\"发送提示词到本地模型：\", test_prompt)\n",
    "\n",
    "response = call_ollama(test_prompt)\n",
    "print(\"\\n📨 模型回复：\\n\", response)\n",
    "\n",
    "\n"
   ]
  }
 ],
 "metadata": {
  "kernelspec": {
   "display_name": "agent",
   "language": "python",
   "name": "python3"
  },
  "language_info": {
   "codemirror_mode": {
    "name": "ipython",
    "version": 3
   },
   "file_extension": ".py",
   "mimetype": "text/x-python",
   "name": "python",
   "nbconvert_exporter": "python",
   "pygments_lexer": "ipython3",
   "version": "3.10.15"
  }
 },
 "nbformat": 4,
 "nbformat_minor": 2
}
